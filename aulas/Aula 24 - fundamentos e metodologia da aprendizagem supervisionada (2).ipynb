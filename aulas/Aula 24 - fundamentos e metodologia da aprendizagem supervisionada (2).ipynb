{
 "cells": [
  {
   "cell_type": "markdown",
   "metadata": {},
   "source": [
    "# Aula 24 - Fundamentos e metodologia da aprendizagem supervisionada\n",
    "\n",
    "____________"
   ]
  },
  {
   "cell_type": "markdown",
   "metadata": {},
   "source": [
    "Agora que já conhecemos dois dos mais importantes estimadores lineares para aprendizagem de máquina (regressão linear e regressão logística), estamos prontos para nos aprofundarmos em alguns conceitos, fixar um pouco de terminologia e construir um cenário geral para a aprendizagem supervisionada."
   ]
  },
  {
   "cell_type": "markdown",
   "metadata": {},
   "source": [
    "\n",
    "<img src=https://s3-sa-east-1.amazonaws.com/lcpi/dfc2968c-b9a9-43a9-a531-e24e34c2e270.png>"
   ]
  },
  {
   "cell_type": "markdown",
   "metadata": {},
   "source": [
    "Podemos resumir a informação acima no seguinte diagrama:\n",
    "\n",
    "<img src=https://s3-sa-east-1.amazonaws.com/lcpi/70da0385-e3fc-4fda-ba15-0004cc3b68ae.PNG>"
   ]
  },
  {
   "cell_type": "markdown",
   "metadata": {},
   "source": [
    "Com esta terminologia, podemos revisitar a exposição que tivemos da regressão linear de maneira mais precisa:"
   ]
  },
  {
   "cell_type": "markdown",
   "metadata": {},
   "source": [
    "a **Regressão Linear Múltipla**, é expressa pela seguinte função de hipótese:\n",
    "\n",
    "$$ \\hat{y} = f_{H, \\vec{b}} = b_0 + b_1 X_1 + b_2 X_2 + \\cdots + b_n X_n $$\n",
    "\n",
    "Ou seja,\n",
    "\n",
    "$$ \\mathcal{H} = \\{ f_{H, \\vec{b}}\\} = \\{ b_0 + b_1 X_1 + b_2 X_2 + \\cdots + b_n X_n \\} $$ \n",
    "\n",
    "é o conjunto de hipóteses que está sendo considerado; e o vetor de parâmetros tem $n+1$ dimensões:\n",
    "\n",
    "$$\\vec{b} = \\begin{bmatrix}\n",
    "b_0\\\\ \n",
    "b_1\\\\\n",
    "\\vdots\\\\\n",
    "b_n\n",
    "\\end{bmatrix}$$"
   ]
  },
  {
   "cell_type": "markdown",
   "metadata": {},
   "source": [
    "Naturalmente, **a função de custo é inteiramente dependente da função de hipótese (e, portanto, dos parâmetros!) e dos dados de treino!**\n",
    "\n",
    "De fato, para a i-ésima observação, $\\hat{y}_i =b_0 +  b_1 X_{1, i} + b_2 X_{2, i} + \\cdots + b_n X_{n, i}$ (note aqui a dependência da hipótese e dos dados!). Assim,\n",
    "\n",
    "$$(y_i-\\hat{y}_i)^2 = (y_i - (b_0 +b_1 X_{1, i} + b_2 X_{2, i} + \\cdots + b_n X_{n, i}))^2 $$\n",
    "\n",
    "Por isso, escrevemos a função de custo como $\\mathcal{L}_{H, \\vec{b}}(X_i, y_i)$, para deixar claro que ela depende tanto dos dados $\\left(X_i, y_i \\right)$ quando da hipótese parametrizada:\n",
    "\n",
    "$$\\mathcal{L}_{H, \\vec{b}}(X_i, y_i) = \\frac{1}{N} \\sum_{i=1}^N(y_i - (b_0 +b_1 X_{1, i} + b_2 X_{2, i} + \\cdots + b_n X_{n, i}))^2$$\n",
    "\n",
    "\n",
    "E, operacionalmente, isso é justamente o que queremos fazer:\n",
    "\n",
    "$$\\hat{b} = \\operatorname*{argmin}_b \\left( \\mathcal{L}_{H, \\vec{b}}(X_i, y_i) \\right)$$"
   ]
  },
  {
   "cell_type": "markdown",
   "metadata": {},
   "source": [
    "___________________"
   ]
  },
  {
   "cell_type": "markdown",
   "metadata": {},
   "source": [
    "E, para a regressão logística, nosso conjunto de hipóteses é: $\\mathcal{H} = \\left \\{ \\frac{1}{1 + e^{-(b_0 + b_1 x_1 + \\cdots + b_n x_n)}} \\right \\}$.\n",
    "\n",
    "O objetivo do algoritmo de aprendizagem será, como sempre, determinar qual é o vetor de parâmetros $\\vec{b}$ que produz uma função logística que **melhor se ajusta aos dados**.\n",
    "\n",
    "$$f_{H, \\vec{b}}(\\vec{x}) = P(y=1 | \\vec{x}) = \\frac{1}{1 + e^{-(b_0 + b_1 x_1 + \\cdots + b_n x_n)}}$$\n"
   ]
  },
  {
   "cell_type": "markdown",
   "metadata": {},
   "source": [
    "Faz sentido, não é mesmo?\n",
    "\n",
    "___________"
   ]
  },
  {
   "cell_type": "markdown",
   "metadata": {},
   "source": [
    "Esquematicamente, vamos dividir cada \"passada no ciclo de modelagem\" em dois grandes passos:"
   ]
  },
  {
   "cell_type": "markdown",
   "metadata": {},
   "source": [
    "## Passo 1: construção do modelo\n",
    "\n",
    "<img src=https://s3-sa-east-1.amazonaws.com/lcpi/23769bcb-a364-4d7b-a68f-04b3dfcde684.png>"
   ]
  },
  {
   "cell_type": "markdown",
   "metadata": {},
   "source": [
    "## Passo 2: avaliação do modelo\n",
    "\n",
    "<img src=https://s3-sa-east-1.amazonaws.com/lcpi/8de84cf0-adb1-4203-921c-bc8dec07df55.png>"
   ]
  }
 ],
 "metadata": {
  "kernelspec": {
   "display_name": "Python [conda env:base] *",
   "language": "python",
   "name": "conda-base-py"
  },
  "language_info": {
   "codemirror_mode": {
    "name": "ipython",
    "version": 3
   },
   "file_extension": ".py",
   "mimetype": "text/x-python",
   "name": "python",
   "nbconvert_exporter": "python",
   "pygments_lexer": "ipython3",
   "version": "3.12.7"
  }
 },
 "nbformat": 4,
 "nbformat_minor": 4
}
